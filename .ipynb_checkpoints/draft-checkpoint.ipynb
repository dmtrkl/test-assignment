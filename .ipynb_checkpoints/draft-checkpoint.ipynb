{
 "cells": [
  {
   "cell_type": "code",
   "execution_count": 22,
   "id": "1a28e7e7",
   "metadata": {
    "collapsed": true
   },
   "outputs": [
    {
     "name": "stdout",
     "output_type": "stream",
     "text": [
      "Collecting package metadata (current_repodata.json): ...working... done\n",
      "Solving environment: ...working... done\n",
      "\n",
      "## Package Plan ##\n",
      "\n",
      "  environment location: C:\\Users\\kolesnyk\\Miniconda3\n",
      "\n",
      "  added / updated specs:\n",
      "    - seaborn\n",
      "\n",
      "\n",
      "The following packages will be downloaded:\n",
      "\n",
      "    package                    |            build\n",
      "    ---------------------------|-----------------\n",
      "    conda-4.10.3               |   py39haa95532_0         2.9 MB\n",
      "    ------------------------------------------------------------\n",
      "                                           Total:         2.9 MB\n",
      "\n",
      "The following packages will be UPDATED:\n",
      "\n",
      "  ca-certificates    conda-forge::ca-certificates-2021.5.3~ --> pkgs/main::ca-certificates-2021.7.5-haa95532_1\n",
      "\n",
      "The following packages will be SUPERSEDED by a higher-priority channel:\n",
      "\n",
      "  certifi            conda-forge::certifi-2021.5.30-py39hc~ --> pkgs/main::certifi-2021.5.30-py39haa95532_0\n",
      "  conda              conda-forge::conda-4.10.3-py39hcbf530~ --> pkgs/main::conda-4.10.3-py39haa95532_0\n",
      "  openssl            conda-forge::openssl-1.1.1l-h8ffe710_0 --> pkgs/main::openssl-1.1.1l-h2bbff1b_0\n",
      "\n",
      "\n",
      "\n",
      "Downloading and Extracting Packages\n",
      "\n",
      "conda-4.10.3         | 2.9 MB    |            |   0% \n",
      "conda-4.10.3         | 2.9 MB    |            |   1% \n",
      "conda-4.10.3         | 2.9 MB    | ########## | 100% \n",
      "conda-4.10.3         | 2.9 MB    | ########## | 100% \n",
      "Preparing transaction: ...working... done\n",
      "Verifying transaction: ...working... done\n",
      "Executing transaction: ...working... done\n"
     ]
    },
    {
     "name": "stderr",
     "output_type": "stream",
     "text": [
      "The system cannot find the path specified.\n"
     ]
    }
   ],
   "source": [
    "import sys\n",
    "!conda install --yes --prefix {sys.prefix} seaborn"
   ]
  },
  {
   "cell_type": "code",
   "execution_count": 37,
   "id": "8d90b7a3",
   "metadata": {},
   "outputs": [],
   "source": [
    "import pandas as pd\n",
    "import numpy as np\n",
    "import seaborn as sns\n",
    "import matplotlib.pyplot as plt\n",
    "from sklearn.model_selection import train_test_split\n",
    "%matplotlib inline\n",
    "from os.path import join\n",
    "import missingno as na\n",
    "from sklearn.preprocessing import StandardScaler\n",
    "from sklearn.linear_model import LogisticRegression\n",
    "from sklearn.linear_model import LinearRegression \n",
    "from sklearn.linear_model import Ridge\n",
    "from sklearn.metrics import accuracy_score \n",
    "from sklearn.metrics import mean_squared_error as mse\n",
    "from numpy.linalg import inv"
   ]
  },
  {
   "cell_type": "code",
   "execution_count": 63,
   "id": "4ecc772e",
   "metadata": {},
   "outputs": [],
   "source": [
    "def bias_term(matrix):\n",
    "    \n",
    "    return np.hstack((np.ones((matrix.shape[0], 1)), matrix))\n",
    "\n",
    "def sigmoid(x):\n",
    "    \n",
    "    return 1 / (1+np.exp(-x.astype(float)))\n",
    "\n",
    "def log_loss(features, target, weights):\n",
    " \n",
    "    scores = np.dot(features, weights)\n",
    "    ll = target * scores - np.log(1 + np.exp(scores))\n",
    "    ll = - sum(ll)/len(ll)\n",
    "    \n",
    "    return ll\n",
    "\n",
    "def grad(features, target, predictions):\n",
    "\n",
    "    output_error_signal = target - predictions\n",
    "    gradient = np.dot(features.T, output_error_signal)\n",
    "    \n",
    "    return gradient\n",
    "\n",
    "def log_reg(features, target,features1, target1, num_steps, learning_rate):\n",
    "\n",
    "    features = bias_term(features)\n",
    "    features1 = bias_term(features1)\n",
    "\n",
    "    weights = np.zeros(features.shape[1])\n",
    "    \n",
    "    iter_num = []\n",
    "    train_score = []\n",
    "    test_score = []\n",
    "    \n",
    "    for num,step in enumerate(range(num_steps)):\n",
    "        \n",
    "        scores = np.dot(features, weights)\n",
    "        predictions = sigmoid(scores)\n",
    "\n",
    "        # Update weights with gradient\n",
    "        gradient = grad(features, target, predictions)\n",
    "        weights += learning_rate * gradient\n",
    "        \n",
    "        log_loss_train = log_loss(features, target, weights)\n",
    "        log_loss_test = log_loss(features1, target1, weights)\n",
    "        \n",
    "        train_score.append(log_loss_train)\n",
    "        test_score.append(log_loss_test)\n",
    "        iter_num.append(num)\n",
    "        \n",
    "        if step % 100 == 0  :\n",
    "            print(f'Train loss: {log_loss_train}\\tTest loss: {log_loss_test}')\n",
    "            #print(weights)\n",
    "            \n",
    "    return weights, train_score, test_score, iter_num \n",
    "\n",
    "def predict(batch, weights):\n",
    "    X = bias_term(batch)\n",
    "    return (sigmoid(np.dot(X, weights)) > .5)"
   ]
  },
  {
   "cell_type": "code",
   "execution_count": 64,
   "id": "e5f07a99",
   "metadata": {},
   "outputs": [],
   "source": [
    "header = get_attr_names(join('data', 'heart-disease.names'))\n",
    "dataset_names = ['cleveland', 'va', 'switzerland', 'hungarian']\n",
    "dataset = {\n",
    "    name:pd.read_csv(join('data', f'processed.{name}.data'), names=header)\n",
    "    for name in dataset_names\n",
    "}"
   ]
  },
  {
   "cell_type": "code",
   "execution_count": 65,
   "id": "28f5d4e2",
   "metadata": {},
   "outputs": [],
   "source": [
    "categorical_features = ['sex', 'cp', 'fbs', 'restecg', 'exang', 'slope', 'thal', 'ca']\n",
    "target = ['num']\n",
    "numeric_features = list(set(header) - set(categorical_features) - set(target))\n",
    "features = list(set(header) - set(target))\n",
    "\n",
    "data = pd.concat(dataset.values(), ignore_index=True)\n",
    "data.replace('?', np.NaN, inplace=True)\n",
    "data.num = data.num.apply(lambda x: 1 if x > 0 else 0)\n",
    "data = data.astype(float)\n",
    "# data[feature] = pd.to_numeric(data[feature]).convert_dtypes()\n",
    "for feature in numeric_features:\n",
    "    #data[feature] = data[feature].astype(float)\n",
    "    data[feature].fillna(value=data[feature].median(), inplace=True)  \n",
    "X = pd.get_dummies(\n",
    "        data.drop('num', axis=1),\n",
    "        columns=categorical_features,\n",
    "        dummy_na=True,\n",
    "        drop_first=True,\n",
    "        dtype='float'\n",
    ")\n",
    "#Dirty hack to remove redundant dummy nan columns\n",
    "X.drop((X.sum()[X.sum() == 0]).index.to_list(), axis=1, inplace=True)\n",
    "y = data['num']\n",
    "\n",
    "scaler = StandardScaler()\n",
    "X[numeric_features] = scaler.fit_transform(X[numeric_features])"
   ]
  },
  {
   "cell_type": "code",
   "execution_count": 66,
   "id": "1f7d6069",
   "metadata": {},
   "outputs": [],
   "source": [
    "X_train, X_test, y_train, y_test = train_test_split(X, y, test_size=0.2, random_state=0)"
   ]
  },
  {
   "cell_type": "code",
   "execution_count": 67,
   "id": "8f7086b9",
   "metadata": {},
   "outputs": [
    {
     "name": "stdout",
     "output_type": "stream",
     "text": [
      "Train loss: 0.511803061379084\tTest loss: 0.49921974599283336\n",
      "Train loss: 0.37273423426778896\tTest loss: 0.3776885423071626\n",
      "Train loss: 0.3690707260396447\tTest loss: 0.3771818445575759\n",
      "Train loss: 0.3681005668618301\tTest loss: 0.37688693136707707\n",
      "Train loss: 0.3677030948953978\tTest loss: 0.3766507513297636\n",
      "Train loss: 0.3674871110318128\tTest loss: 0.37648782909603623\n",
      "Train loss: 0.36734623405632305\tTest loss: 0.37638052878285305\n",
      "Train loss: 0.36724441676343267\tTest loss: 0.37630894752797317\n",
      "Train loss: 0.36716662078223544\tTest loss: 0.37625929859547586\n",
      "Train loss: 0.3671051990320204\tTest loss: 0.3762232159234086\n"
     ]
    }
   ],
   "source": [
    "weights, train_score, test_score, iter_num = logistic_regression(X_train, y_train, X_test, y_test,\n",
    "                     num_steps = 1000, learning_rate = 5e-3)"
   ]
  },
  {
   "cell_type": "code",
   "execution_count": 68,
   "id": "679c9b70",
   "metadata": {},
   "outputs": [
    {
     "data": {
      "text/plain": [
       "<matplotlib.legend.Legend at 0x13a368c0b20>"
      ]
     },
     "execution_count": 68,
     "metadata": {},
     "output_type": "execute_result"
    },
    {
     "data": {
      "image/png": "[encoded data removed]",
      "text/plain": [
       "<Figure size 432x288 with 1 Axes>"
      ]
     },
     "metadata": {
      "needs_background": "light"
     },
     "output_type": "display_data"
    }
   ],
   "source": [
    "plt.plot(iter_num, train_score, label = 'train')\n",
    "plt.plot(iter_num, test_score, label = 'test')\n",
    "plt.xlabel('iteration')\n",
    "plt.ylabel('log loss')\n",
    "plt.legend()"
   ]
  },
  {
   "cell_type": "code",
   "execution_count": 53,
   "id": "fb5f9fb9",
   "metadata": {},
   "outputs": [
    {
     "name": "stdout",
     "output_type": "stream",
     "text": [
      "Train accuracy: 0.8383152173913043\tTest accuracy: 0.8097826086956522\n"
     ]
    }
   ],
   "source": [
    "train_acc = accuracy_score(predict(X_train, weights), y_train)\n",
    "test_acc = accuracy_score(predict(X_test, weights), y_test)\n",
    "print(\n",
    "    f'Train accuracy: {train_acc}\\tTest accuracy: {test_acc}'\n",
    ")"
   ]
  },
  {
   "cell_type": "code",
   "execution_count": 54,
   "id": "d6fcff2c",
   "metadata": {},
   "outputs": [
    {
     "name": "stdout",
     "output_type": "stream",
     "text": [
      "Train accuracy: 0.8410326086956522\tTest accuracy: 0.8097826086956522\n"
     ]
    }
   ],
   "source": [
    "LR = LogisticRegression(penalty='none', max_iter=500)\n",
    "LR.fit(X_train, y_train)\n",
    "LR_pred = LR.predict(X_test)\n",
    "\n",
    "train_acc = accuracy_score(LR.predict(X_train), y_train)\n",
    "test_acc = accuracy_score(LR.predict(X_test), y_test)\n",
    "print(\n",
    "    f'Train accuracy: {train_acc}\\tTest accuracy: {test_acc}'\n",
    ")"
   ]
  },
  {
   "cell_type": "code",
   "execution_count": 55,
   "id": "484ed0d0",
   "metadata": {},
   "outputs": [
    {
     "name": "stdout",
     "output_type": "stream",
     "text": [
      "[0.04990669]\n",
      "[[ 1.50358647e-03  3.48139488e-04  3.32017158e-03 -6.37451796e-04\n",
      "  -3.09070925e-03  2.62339021e-03 -5.11069899e-02 -4.87682210e-02\n",
      "  -4.86394169e-02 -5.17962422e-03  1.81030413e-03 -5.65185541e-03\n",
      "  -7.51397418e-03 -1.09975415e+01 -3.18059205e-03 -1.02102148e-02\n",
      "  -1.20837553e-03 -3.87248961e-04  2.21011956e-03 -7.42135086e-03\n",
      "  -1.04124193e-03  3.85020674e-03 -1.45510049e-03 -1.36142776e-02\n",
      "   3.23436211e-03 -1.13469095e-03]]\n"
     ]
    }
   ],
   "source": [
    "print(weights[0] - LR.intercept_)\n",
    "print(weights[1:] - LR.coef_)"
   ]
  },
  {
   "cell_type": "code",
   "execution_count": null,
   "id": "8fbf0e5c",
   "metadata": {
    "scrolled": true
   },
   "outputs": [],
   "source": [
    "na.matrix(X, fontsize=24)"
   ]
  },
  {
   "cell_type": "code",
   "execution_count": null,
   "id": "37c2e7bb",
   "metadata": {},
   "outputs": [],
   "source": [
    "plt.hist(data.thal, bins=5)"
   ]
  },
  {
   "cell_type": "code",
   "execution_count": null,
   "id": "3e8cf60d",
   "metadata": {},
   "outputs": [],
   "source": [
    "data.plot(kind='hist', subplots=True, layout=(7,2), figsize=(30,10), bins=100, sharex=False, sharey=False, xlim=[0,400]);"
   ]
  },
  {
   "cell_type": "code",
   "execution_count": null,
   "id": "5d7a73a1",
   "metadata": {},
   "outputs": [],
   "source": [
    "plt.scatter(range(len(data.age)), data.age, c=data.num)"
   ]
  },
  {
   "cell_type": "code",
   "execution_count": null,
   "id": "6286865c",
   "metadata": {},
   "outputs": [],
   "source": [
    "na.heatmap(data)"
   ]
  },
  {
   "cell_type": "markdown",
   "id": "67c59509",
   "metadata": {},
   "source": [
    "# Linear Regression"
   ]
  },
  {
   "cell_type": "code",
   "execution_count": 6,
   "id": "01a504c2",
   "metadata": {},
   "outputs": [],
   "source": [
    "data = pd.read_csv('data/insurance.csv')"
   ]
  },
  {
   "cell_type": "code",
   "execution_count": 7,
   "id": "f43f3f46",
   "metadata": {},
   "outputs": [
    {
     "data": {
      "text/html": [
       "<div>\n",
       "<style scoped>\n",
       "    .dataframe tbody tr th:only-of-type {\n",
       "        vertical-align: middle;\n",
       "    }\n",
       "\n",
       "    .dataframe tbody tr th {\n",
       "        vertical-align: top;\n",
       "    }\n",
       "\n",
       "    .dataframe thead th {\n",
       "        text-align: right;\n",
       "    }\n",
       "</style>\n",
       "<table border=\"1\" class=\"dataframe\">\n",
       "  <thead>\n",
       "    <tr style=\"text-align: right;\">\n",
       "      <th></th>\n",
       "      <th>age</th>\n",
       "      <th>bmi</th>\n",
       "      <th>children</th>\n",
       "      <th>charges</th>\n",
       "    </tr>\n",
       "  </thead>\n",
       "  <tbody>\n",
       "    <tr>\n",
       "      <th>count</th>\n",
       "      <td>1338.000000</td>\n",
       "      <td>1338.000000</td>\n",
       "      <td>1338.000000</td>\n",
       "      <td>1338.000000</td>\n",
       "    </tr>\n",
       "    <tr>\n",
       "      <th>mean</th>\n",
       "      <td>39.207025</td>\n",
       "      <td>30.663397</td>\n",
       "      <td>1.094918</td>\n",
       "      <td>13270.422265</td>\n",
       "    </tr>\n",
       "    <tr>\n",
       "      <th>std</th>\n",
       "      <td>14.049960</td>\n",
       "      <td>6.098187</td>\n",
       "      <td>1.205493</td>\n",
       "      <td>12110.011237</td>\n",
       "    </tr>\n",
       "    <tr>\n",
       "      <th>min</th>\n",
       "      <td>18.000000</td>\n",
       "      <td>15.960000</td>\n",
       "      <td>0.000000</td>\n",
       "      <td>1121.873900</td>\n",
       "    </tr>\n",
       "    <tr>\n",
       "      <th>25%</th>\n",
       "      <td>27.000000</td>\n",
       "      <td>26.296250</td>\n",
       "      <td>0.000000</td>\n",
       "      <td>4740.287150</td>\n",
       "    </tr>\n",
       "    <tr>\n",
       "      <th>50%</th>\n",
       "      <td>39.000000</td>\n",
       "      <td>30.400000</td>\n",
       "      <td>1.000000</td>\n",
       "      <td>9382.033000</td>\n",
       "    </tr>\n",
       "    <tr>\n",
       "      <th>75%</th>\n",
       "      <td>51.000000</td>\n",
       "      <td>34.693750</td>\n",
       "      <td>2.000000</td>\n",
       "      <td>16639.912515</td>\n",
       "    </tr>\n",
       "    <tr>\n",
       "      <th>max</th>\n",
       "      <td>64.000000</td>\n",
       "      <td>53.130000</td>\n",
       "      <td>5.000000</td>\n",
       "      <td>63770.428010</td>\n",
       "    </tr>\n",
       "  </tbody>\n",
       "</table>\n",
       "</div>"
      ],
      "text/plain": [
       "               age          bmi     children       charges\n",
       "count  1338.000000  1338.000000  1338.000000   1338.000000\n",
       "mean     39.207025    30.663397     1.094918  13270.422265\n",
       "std      14.049960     6.098187     1.205493  12110.011237\n",
       "min      18.000000    15.960000     0.000000   1121.873900\n",
       "25%      27.000000    26.296250     0.000000   4740.287150\n",
       "50%      39.000000    30.400000     1.000000   9382.033000\n",
       "75%      51.000000    34.693750     2.000000  16639.912515\n",
       "max      64.000000    53.130000     5.000000  63770.428010"
      ]
     },
     "execution_count": 7,
     "metadata": {},
     "output_type": "execute_result"
    }
   ],
   "source": [
    "data.describe()"
   ]
  },
  {
   "cell_type": "code",
   "execution_count": 8,
   "id": "1018e9af",
   "metadata": {},
   "outputs": [
    {
     "name": "stdout",
     "output_type": "stream",
     "text": [
      "<class 'pandas.core.frame.DataFrame'>\n",
      "RangeIndex: 1338 entries, 0 to 1337\n",
      "Data columns (total 7 columns):\n",
      " #   Column    Non-Null Count  Dtype  \n",
      "---  ------    --------------  -----  \n",
      " 0   age       1338 non-null   int64  \n",
      " 1   sex       1338 non-null   object \n",
      " 2   bmi       1338 non-null   float64\n",
      " 3   children  1338 non-null   int64  \n",
      " 4   smoker    1338 non-null   object \n",
      " 5   region    1338 non-null   object \n",
      " 6   charges   1338 non-null   float64\n",
      "dtypes: float64(2), int64(2), object(3)\n",
      "memory usage: 73.3+ KB\n"
     ]
    }
   ],
   "source": [
    "data.info()"
   ]
  },
  {
   "cell_type": "code",
   "execution_count": 9,
   "id": "51ed3bf6",
   "metadata": {},
   "outputs": [
    {
     "data": {
      "text/plain": [
       "southeast    364\n",
       "southwest    325\n",
       "northwest    325\n",
       "northeast    324\n",
       "Name: region, dtype: int64"
      ]
     },
     "execution_count": 9,
     "metadata": {},
     "output_type": "execute_result"
    }
   ],
   "source": [
    "data.region.value_counts()"
   ]
  },
  {
   "cell_type": "code",
   "execution_count": 10,
   "id": "d0b8a05d",
   "metadata": {},
   "outputs": [],
   "source": [
    "cat_var = ['sex', 'smoker', 'region']\n",
    "target = ['charges']\n",
    "num_var = list(set(data.columns) - set(cat_var) - set(target))\n",
    "for f in num_var:\n",
    "    data[f] = data[f].astype(float)\n",
    "X = pd.get_dummies(\n",
    "        data.drop('charges', axis=1),\n",
    "        columns=cat_var,\n",
    "        drop_first=True,\n",
    "        dtype='float'\n",
    ")\n",
    "\n",
    "X.insert(0,'bias',np.ones(len(data)))\n",
    "y = data[target].astype(float)"
   ]
  },
  {
   "cell_type": "code",
   "execution_count": 69,
   "id": "831af1f6",
   "metadata": {},
   "outputs": [],
   "source": [
    "X_train, X_test, y_train, y_test = train_test_split(X, y, test_size=0.2, random_state=0)"
   ]
  },
  {
   "cell_type": "code",
   "execution_count": 12,
   "id": "0489031f",
   "metadata": {},
   "outputs": [],
   "source": [
    "X_train_hg, X_test_hg, y_train, y_test = np.array(X_train), np.array(X_test), np.array(y_train), np.array(y_test)"
   ]
  },
  {
   "cell_type": "code",
   "execution_count": 13,
   "id": "91f1ff31",
   "metadata": {},
   "outputs": [],
   "source": [
    "X_train = np.delete(X_train_hg, 0 ,axis = 1)\n",
    "X_test = np.delete(X_test_hg, 0 ,axis = 1)"
   ]
  },
  {
   "cell_type": "code",
   "execution_count": 14,
   "id": "925cf6fa",
   "metadata": {},
   "outputs": [],
   "source": [
    "# scaler = StandardScaler()\n",
    "# X_train_hg_scaled = scaler.fit_transform(X_train_hg)\n",
    "# X_test_hg_scaled = scaler.transform(X_test_hg)\n",
    "\n",
    "# scaler = StandardScaler()\n",
    "# X_train_scaled = scaler.fit_transform(X_train)\n",
    "# X_test_scaled = scaler.transform(X_test)\n",
    "\n",
    "# scaler = StandardScaler()\n",
    "# y_train_scaled = scaler.fit_transform(y_train)\n",
    "# y_test_scaled = scaler.transform(y_test)"
   ]
  },
  {
   "cell_type": "code",
   "execution_count": 15,
   "id": "8cedd20e",
   "metadata": {},
   "outputs": [
    {
     "name": "stdout",
     "output_type": "stream",
     "text": [
      "Coefficients of first features according to my implementation:\n",
      " [[ 2.53700500e+02]\n",
      " [ 3.35962814e+02]\n",
      " [ 4.36910121e+02]\n",
      " [-1.54637279e+01]\n",
      " [ 2.36050173e+04]\n",
      " [-2.60132732e+02]\n",
      " [-9.13278834e+02]\n",
      " [-7.61948706e+02]] [-11828.07353747]\n"
     ]
    }
   ],
   "source": [
    "coef = inv(X_train_hg.T @ X_train_hg) @ X_train_hg.T @ y_train\n",
    "my_intercept = coef[0]\n",
    "my_coef = coef[1::]\n",
    "print('Coefficients of first features according to my implementation:\\n', my_coef, my_intercept)"
   ]
  },
  {
   "cell_type": "code",
   "execution_count": 16,
   "id": "933391c6",
   "metadata": {},
   "outputs": [
    {
     "name": "stdout",
     "output_type": "stream",
     "text": [
      "Coefficients of features according to my implementation: [[-11408.61778406]\n",
      " [   251.79043155]\n",
      " [   327.02259626]\n",
      " [   433.08430745]\n",
      " [   -28.22043664]\n",
      " [ 23447.98231654]\n",
      " [  -304.93238238]\n",
      " [  -904.57935355]\n",
      " [  -795.70470518]]\n"
     ]
    }
   ],
   "source": [
    "reg_lambda = 1\n",
    "xTx = X_train_hg.T @ X_train_hg\n",
    "ridge_coef = inv(xTx + reg_lambda*np.identity(xTx.shape[0])) @ X_train_hg.T @ y_train\n",
    "print('Coefficients of features according to my implementation:', ridge_coef)"
   ]
  },
  {
   "cell_type": "code",
   "execution_count": 18,
   "id": "ee370ecf",
   "metadata": {
    "scrolled": true
   },
   "outputs": [
    {
     "name": "stdout",
     "output_type": "stream",
     "text": [
      "Coefficients of five first features according to sklearn:\n",
      " [[ 2.53700500e+02  3.35962814e+02  4.36910121e+02 -1.54637279e+01\n",
      "   2.36050173e+04 -2.60132732e+02 -9.13278834e+02 -7.61948706e+02]] [-11828.07353747]\n"
     ]
    }
   ],
   "source": [
    "reg = LinearRegression().fit(X_train, y_train)\n",
    "print('Coefficients of five first features according to sklearn:\\n', reg.coef_[0:5], reg.intercept_)"
   ]
  },
  {
   "cell_type": "code",
   "execution_count": 19,
   "id": "cccd824d",
   "metadata": {},
   "outputs": [],
   "source": [
    "# (scaler.inverse_transform(reg.predict(X_test_scaled)) - scaler.inverse_transform(y_test_scaled)).astype(int)"
   ]
  },
  {
   "cell_type": "code",
   "execution_count": 20,
   "id": "88ae62bb",
   "metadata": {},
   "outputs": [
    {
     "name": "stdout",
     "output_type": "stream",
     "text": [
      "\n",
      "#################\n",
      "\n",
      "LinearRegression() \n",
      "\n",
      "RMSE train: 6140.157418880165\n",
      "RMSE test: 5641.62655885019\n"
     ]
    },
    {
     "data": {
      "text/plain": [
       "(6140.157418880165, 5641.62655885019)"
      ]
     },
     "execution_count": 20,
     "metadata": {},
     "output_type": "execute_result"
    }
   ],
   "source": [
    "def evaluate(regression_model_class_instance, trainX, trainY, testX, testY):\n",
    "    print(\"\\n#################\\n\")\n",
    "    print(regression_model_class_instance, '\\n')\n",
    "    \n",
    "    train_pred = regression_model_class_instance.predict(trainX)\n",
    "    test_pred = regression_model_class_instance.predict(testX)\n",
    "    \n",
    "    rmse_tr = np.sqrt(mse(trainY, train_pred))\n",
    "    rmse_te = np.sqrt(mse(testY, test_pred))\n",
    "    \n",
    "    print(\"RMSE train:\", rmse_tr)\n",
    "    print(\"RMSE test:\", rmse_te)\n",
    "    \n",
    "    return rmse_tr, rmse_te\n",
    "\n",
    "evaluate(reg, X_train, y_train, X_test, y_test)"
   ]
  },
  {
   "cell_type": "code",
   "execution_count": 21,
   "id": "04d02208",
   "metadata": {},
   "outputs": [
    {
     "data": {
      "text/plain": [
       "0.7999876970680433"
      ]
     },
     "execution_count": 21,
     "metadata": {},
     "output_type": "execute_result"
    }
   ],
   "source": [
    "reg.score(X_test, y_test)"
   ]
  },
  {
   "cell_type": "code",
   "execution_count": 34,
   "id": "96e1f50b",
   "metadata": {},
   "outputs": [],
   "source": [
    "assert(abs(my_intercept - reg.intercept_) < 0.000001)\n",
    "for i in range(len(my_coef[0])):\n",
    "    assert(abs(my_coef[0][i] - reg.coef_[0][i]) < 0.000001)"
   ]
  },
  {
   "cell_type": "code",
   "execution_count": null,
   "id": "8b31cceb",
   "metadata": {},
   "outputs": [],
   "source": [
    "from sklearn.pipeline import Pipeline\n",
    "from sklearn.compose import TransformedTargetRegressor\n",
    "from sklearn.model_selection import cross_val_score\n",
    "from sklearn.model_selection import KFold\n",
    "from numpy import mean\n",
    "from numpy import absolute"
   ]
  },
  {
   "cell_type": "code",
   "execution_count": null,
   "id": "75258a28",
   "metadata": {},
   "outputs": [],
   "source": [
    "cv = KFold(n_splits=10, shuffle=True, random_state=1)\n",
    "scores = cross_val_score(model, X, y, scoring='neg_mean_absolute_error', cv=cv, n_jobs=-1)\n",
    "# convert scores to positive\n",
    "scores = absolute(scores)\n",
    "# summarize the result\n",
    "s_mean = mean(scores)\n",
    "print('Mean MAE: %.3f' % (s_mean))"
   ]
  },
  {
   "cell_type": "code",
   "execution_count": null,
   "id": "ad1bfe20",
   "metadata": {},
   "outputs": [],
   "source": []
  },
  {
   "cell_type": "code",
   "execution_count": null,
   "id": "425efddd",
   "metadata": {},
   "outputs": [],
   "source": []
  }
 ],
 "metadata": {
  "kernelspec": {
   "display_name": "Python 3 (ipykernel)",
   "language": "python",
   "name": "python3"
  },
  "language_info": {
   "codemirror_mode": {
    "name": "ipython",
    "version": 3
   },
   "file_extension": ".py",
   "mimetype": "text/x-python",
   "name": "python",
   "nbconvert_exporter": "python",
   "pygments_lexer": "ipython3",
   "version": "3.9.5"
  },
  "widgets": {
   "application/vnd.jupyter.widget-state+json": {
    "state": {},
    "version_major": 2,
    "version_minor": 0
   }
  }
 },
 "nbformat": 4,
 "nbformat_minor": 5
}
